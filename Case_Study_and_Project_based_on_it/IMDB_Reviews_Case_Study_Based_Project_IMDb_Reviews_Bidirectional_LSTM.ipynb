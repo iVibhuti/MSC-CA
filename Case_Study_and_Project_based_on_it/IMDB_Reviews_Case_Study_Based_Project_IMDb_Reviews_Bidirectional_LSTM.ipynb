{
 "cells": [
  {
   "cell_type": "markdown",
   "metadata": {},
   "source": [
    "#### Name : Subodh Dharmadhikari\n",
    "### PRN : 18030142043\n",
    "### Course : Text Analytics\n",
    "#### Name - Subodh Dharmadhikari\n",
    "# Sentiment analysis using Bidirectional LSTM on IMDB Reviews dataset"
   ]
  },
  {
   "cell_type": "markdown",
   "metadata": {},
   "source": [
    "#### Importing required packages"
   ]
  },
  {
   "cell_type": "code",
   "execution_count": 1,
   "metadata": {},
   "outputs": [
    {
     "name": "stderr",
     "output_type": "stream",
     "text": [
      "Using TensorFlow backend.\n"
     ]
    }
   ],
   "source": [
    "from keras.datasets import imdb\n",
    "from keras.preprocessing import sequence\n",
    "from keras.preprocessing.text import Tokenizer\n",
    "import os\n",
    "import urllib.request\n",
    "import tarfile\n",
    "import warnings\n",
    "warnings.filterwarnings(\"ignore\")"
   ]
  },
  {
   "cell_type": "markdown",
   "metadata": {},
   "source": [
    "#### Downloading the dataset from Stanford Education API it will take upto 4 minutes to download"
   ]
  },
  {
   "cell_type": "code",
   "execution_count": 2,
   "metadata": {},
   "outputs": [],
   "source": [
    "\n",
    "url = \"http://ai.stanford.edu/~amaas/data/sentiment/aclImdb_v1.tar.gz\"\n",
    "filePath = \"aclImdb_v1.tar.gz\"\n",
    "\n",
    "if not os.path.isfile(filePath):\n",
    "    result = urllib.request.urlretrieve(url, filePath)\n",
    "    print('downloaded: ', result)\n",
    "\n",
    "if not os.path.exists(\"aclImdb\"):\n",
    "    tempTarFile = tarfile.open(\"aclImdb_v1.tar.gz\",'r:gz')\n",
    "    result = tempTarFile.extractall('')"
   ]
  },
  {
   "cell_type": "markdown",
   "metadata": {},
   "source": [
    "#### Using regex to clean the data"
   ]
  },
  {
   "cell_type": "code",
   "execution_count": 3,
   "metadata": {},
   "outputs": [],
   "source": [
    "import re\n",
    "\n",
    "def remove_tags(text):\n",
    "    regular_expression_tag = re.compile(r'<[^>]+>')\n",
    "    return regular_expression_tag.sub('',text)"
   ]
  },
  {
   "cell_type": "markdown",
   "metadata": {},
   "source": [
    "#### Read positive and negative files"
   ]
  },
  {
   "cell_type": "code",
   "execution_count": 4,
   "metadata": {},
   "outputs": [],
   "source": [
    "import os\n",
    "\n",
    "def read_files(file_type):\n",
    "    path = \"aclImdb/\"\n",
    "    file_list=[]\n",
    "    \n",
    "    positive_path = path + file_type + \"/pos/\"\n",
    "    for f in os.listdir(positive_path):\n",
    "        file_list = file_list + [positive_path + f] \n",
    "    \n",
    "    negative_path = path + file_type + \"/neg/\"\n",
    "    for f in os.listdir(negative_path):\n",
    "        file_list = file_list + [negative_path + f] \n",
    "        \n",
    "    print('read', file_type, 'files: ', len(file_list) )\n",
    "    \n",
    "    all_labels = ( [1]*12500 + [0]*12500 )\n",
    "    \n",
    "    all_texts = []\n",
    "    \n",
    "    for f in file_list:\n",
    "        with open(f, encoding='utf8') as file_input:\n",
    "            all_texts = all_texts + [ remove_tags(\" \".join(file_input.readlines() ) ) ] #remove html tags\n",
    "    \n",
    "    return all_labels, all_texts"
   ]
  },
  {
   "cell_type": "code",
   "execution_count": 5,
   "metadata": {},
   "outputs": [
    {
     "name": "stdout",
     "output_type": "stream",
     "text": [
      "read train files:  25000\n"
     ]
    }
   ],
   "source": [
    "y_train, x_train_text = read_files(\"train\")"
   ]
  },
  {
   "cell_type": "code",
   "execution_count": 6,
   "metadata": {},
   "outputs": [
    {
     "name": "stdout",
     "output_type": "stream",
     "text": [
      "read test files:  25000\n"
     ]
    }
   ],
   "source": [
    "y_test, x_test_text = read_files(\"test\")"
   ]
  },
  {
   "cell_type": "code",
   "execution_count": 7,
   "metadata": {},
   "outputs": [],
   "source": [
    "token = Tokenizer( num_words=2000 )\n",
    "token.fit_on_texts(x_train_text)\n",
    "\n",
    "x_train_seq = token.texts_to_sequences(x_train_text)\n",
    "x_test_seq = token.texts_to_sequences(x_test_text)\n",
    "\n",
    "x_train_final = sequence.pad_sequences( x_train_seq, maxlen=100 )\n",
    "x_test_final = sequence.pad_sequences( x_test_seq, maxlen=100 )"
   ]
  },
  {
   "cell_type": "markdown",
   "metadata": {},
   "source": [
    "#### Add Embedding layer"
   ]
  },
  {
   "cell_type": "code",
   "execution_count": 8,
   "metadata": {},
   "outputs": [],
   "source": [
    "from keras.models import Sequential\n",
    "from keras.layers.core import Dense, Dropout, Activation, Flatten\n",
    "from keras.layers.embeddings import Embedding\n",
    "from keras.layers import Bidirectional"
   ]
  },
  {
   "cell_type": "markdown",
   "metadata": {},
   "source": [
    "#### Import RNN"
   ]
  },
  {
   "cell_type": "code",
   "execution_count": 9,
   "metadata": {},
   "outputs": [],
   "source": [
    "from keras.layers.recurrent import LSTM"
   ]
  },
  {
   "cell_type": "code",
   "execution_count": 10,
   "metadata": {},
   "outputs": [
    {
     "name": "stdout",
     "output_type": "stream",
     "text": [
      "WARNING:tensorflow:From //anaconda3/lib/python3.7/site-packages/keras/backend/tensorflow_backend.py:74: The name tf.get_default_graph is deprecated. Please use tf.compat.v1.get_default_graph instead.\n",
      "\n"
     ]
    }
   ],
   "source": [
    "model = Sequential()"
   ]
  },
  {
   "cell_type": "code",
   "execution_count": 11,
   "metadata": {},
   "outputs": [
    {
     "name": "stdout",
     "output_type": "stream",
     "text": [
      "WARNING:tensorflow:From //anaconda3/lib/python3.7/site-packages/keras/backend/tensorflow_backend.py:517: The name tf.placeholder is deprecated. Please use tf.compat.v1.placeholder instead.\n",
      "\n",
      "WARNING:tensorflow:From //anaconda3/lib/python3.7/site-packages/keras/backend/tensorflow_backend.py:4138: The name tf.random_uniform is deprecated. Please use tf.random.uniform instead.\n",
      "\n",
      "WARNING:tensorflow:From //anaconda3/lib/python3.7/site-packages/keras/backend/tensorflow_backend.py:133: The name tf.placeholder_with_default is deprecated. Please use tf.compat.v1.placeholder_with_default instead.\n",
      "\n",
      "WARNING:tensorflow:From //anaconda3/lib/python3.7/site-packages/keras/backend/tensorflow_backend.py:3445: calling dropout (from tensorflow.python.ops.nn_ops) with keep_prob is deprecated and will be removed in a future version.\n",
      "Instructions for updating:\n",
      "Please use `rate` instead of `keep_prob`. Rate should be set to `rate = 1 - keep_prob`.\n"
     ]
    }
   ],
   "source": [
    "model.add( Embedding(output_dim=32, input_dim=2000, input_length=100))\n",
    "model.add( Dropout(0.35) )"
   ]
  },
  {
   "cell_type": "markdown",
   "metadata": {},
   "source": [
    "#### Add LSTM and other layers"
   ]
  },
  {
   "cell_type": "code",
   "execution_count": 12,
   "metadata": {},
   "outputs": [],
   "source": [
    "model.add( Bidirectional(LSTM(units=16)))"
   ]
  },
  {
   "cell_type": "code",
   "execution_count": 13,
   "metadata": {},
   "outputs": [],
   "source": [
    "model.add( Dense(units=256, activation='relu') )\n",
    "model.add( Dropout(0.5) )"
   ]
  },
  {
   "cell_type": "code",
   "execution_count": 14,
   "metadata": {},
   "outputs": [],
   "source": [
    "model.add( Dense(units=1, activation='sigmoid') )"
   ]
  },
  {
   "cell_type": "code",
   "execution_count": 15,
   "metadata": {},
   "outputs": [
    {
     "name": "stdout",
     "output_type": "stream",
     "text": [
      "_________________________________________________________________\n",
      "Layer (type)                 Output Shape              Param #   \n",
      "=================================================================\n",
      "embedding_1 (Embedding)      (None, 100, 32)           64000     \n",
      "_________________________________________________________________\n",
      "dropout_1 (Dropout)          (None, 100, 32)           0         \n",
      "_________________________________________________________________\n",
      "bidirectional_1 (Bidirection (None, 32)                6272      \n",
      "_________________________________________________________________\n",
      "dense_1 (Dense)              (None, 256)               8448      \n",
      "_________________________________________________________________\n",
      "dropout_2 (Dropout)          (None, 256)               0         \n",
      "_________________________________________________________________\n",
      "dense_2 (Dense)              (None, 1)                 257       \n",
      "=================================================================\n",
      "Total params: 78,977\n",
      "Trainable params: 78,977\n",
      "Non-trainable params: 0\n",
      "_________________________________________________________________\n"
     ]
    }
   ],
   "source": [
    "model.summary()"
   ]
  },
  {
   "cell_type": "markdown",
   "metadata": {},
   "source": [
    "#### Adding Adam optimizer"
   ]
  },
  {
   "cell_type": "code",
   "execution_count": 16,
   "metadata": {},
   "outputs": [
    {
     "name": "stdout",
     "output_type": "stream",
     "text": [
      "WARNING:tensorflow:From //anaconda3/lib/python3.7/site-packages/keras/optimizers.py:790: The name tf.train.Optimizer is deprecated. Please use tf.compat.v1.train.Optimizer instead.\n",
      "\n",
      "WARNING:tensorflow:From //anaconda3/lib/python3.7/site-packages/keras/backend/tensorflow_backend.py:3376: The name tf.log is deprecated. Please use tf.math.log instead.\n",
      "\n",
      "WARNING:tensorflow:From //anaconda3/lib/python3.7/site-packages/tensorflow/python/ops/nn_impl.py:180: add_dispatch_support.<locals>.wrapper (from tensorflow.python.ops.array_ops) is deprecated and will be removed in a future version.\n",
      "Instructions for updating:\n",
      "Use tf.where in 2.0, which has the same broadcast rule as np.where\n"
     ]
    }
   ],
   "source": [
    "model.compile(loss='binary_crossentropy', optimizer='adam', metrics=['accuracy'])"
   ]
  },
  {
   "cell_type": "markdown",
   "metadata": {},
   "source": [
    "#### Train the model on the bidirectional LSTM"
   ]
  },
  {
   "cell_type": "code",
   "execution_count": 17,
   "metadata": {},
   "outputs": [
    {
     "name": "stdout",
     "output_type": "stream",
     "text": [
      "Train on 20000 samples, validate on 5000 samples\n",
      "Epoch 1/30\n",
      " - 11s - loss: 0.5850 - acc: 0.6809 - val_loss: 0.4556 - val_acc: 0.8174\n",
      "Epoch 2/30\n",
      " - 9s - loss: 0.3550 - acc: 0.8473 - val_loss: 0.6556 - val_acc: 0.7068\n",
      "Epoch 3/30\n",
      " - 9s - loss: 0.3108 - acc: 0.8714 - val_loss: 0.5445 - val_acc: 0.7650\n",
      "Epoch 4/30\n",
      " - 9s - loss: 0.2950 - acc: 0.8786 - val_loss: 0.6204 - val_acc: 0.7196\n",
      "Epoch 5/30\n",
      " - 9s - loss: 0.2781 - acc: 0.8883 - val_loss: 0.4802 - val_acc: 0.7910\n",
      "Epoch 6/30\n",
      " - 8s - loss: 0.2678 - acc: 0.8920 - val_loss: 0.5641 - val_acc: 0.7736\n",
      "Epoch 7/30\n",
      " - 9s - loss: 0.2564 - acc: 0.8958 - val_loss: 0.5219 - val_acc: 0.7924\n",
      "Epoch 8/30\n",
      " - 8s - loss: 0.2478 - acc: 0.9006 - val_loss: 0.4788 - val_acc: 0.7968\n",
      "Epoch 9/30\n",
      " - 8s - loss: 0.2350 - acc: 0.9051 - val_loss: 0.5823 - val_acc: 0.7724\n",
      "Epoch 10/30\n",
      " - 8s - loss: 0.2248 - acc: 0.9087 - val_loss: 0.6516 - val_acc: 0.7242\n",
      "Epoch 11/30\n",
      " - 8s - loss: 0.2198 - acc: 0.9106 - val_loss: 0.7051 - val_acc: 0.7418\n",
      "Epoch 12/30\n",
      " - 9s - loss: 0.2125 - acc: 0.9127 - val_loss: 0.5721 - val_acc: 0.7870\n",
      "Epoch 13/30\n",
      " - 8s - loss: 0.1965 - acc: 0.9204 - val_loss: 0.6659 - val_acc: 0.7784\n",
      "Epoch 14/30\n",
      " - 9s - loss: 0.1919 - acc: 0.9242 - val_loss: 0.6602 - val_acc: 0.7852\n",
      "Epoch 15/30\n",
      " - 9s - loss: 0.1853 - acc: 0.9268 - val_loss: 0.6692 - val_acc: 0.7606\n",
      "Epoch 16/30\n",
      " - 9s - loss: 0.1782 - acc: 0.9302 - val_loss: 0.7605 - val_acc: 0.7526\n",
      "Epoch 17/30\n",
      " - 9s - loss: 0.1725 - acc: 0.9291 - val_loss: 0.7450 - val_acc: 0.7568\n",
      "Epoch 18/30\n",
      " - 9s - loss: 0.1640 - acc: 0.9352 - val_loss: 0.8760 - val_acc: 0.7472\n",
      "Epoch 19/30\n",
      " - 9s - loss: 0.1547 - acc: 0.9389 - val_loss: 0.7482 - val_acc: 0.7882\n",
      "Epoch 20/30\n",
      " - 8s - loss: 0.1552 - acc: 0.9379 - val_loss: 0.8328 - val_acc: 0.7588\n",
      "Epoch 21/30\n",
      " - 9s - loss: 0.1479 - acc: 0.9395 - val_loss: 0.8007 - val_acc: 0.7688\n",
      "Epoch 22/30\n",
      " - 9s - loss: 0.1401 - acc: 0.9438 - val_loss: 1.0062 - val_acc: 0.7446\n",
      "Epoch 23/30\n",
      " - 9s - loss: 0.1309 - acc: 0.9473 - val_loss: 1.0586 - val_acc: 0.7240\n",
      "Epoch 24/30\n",
      " - 9s - loss: 0.1305 - acc: 0.9492 - val_loss: 1.0553 - val_acc: 0.7122\n",
      "Epoch 25/30\n",
      " - 9s - loss: 0.1220 - acc: 0.9534 - val_loss: 1.1450 - val_acc: 0.7092\n",
      "Epoch 26/30\n",
      " - 9s - loss: 0.1205 - acc: 0.9506 - val_loss: 0.8304 - val_acc: 0.7618\n",
      "Epoch 27/30\n",
      " - 9s - loss: 0.1148 - acc: 0.9557 - val_loss: 1.1470 - val_acc: 0.7098\n",
      "Epoch 28/30\n",
      " - 9s - loss: 0.1166 - acc: 0.9529 - val_loss: 1.1373 - val_acc: 0.7558\n",
      "Epoch 29/30\n",
      " - 9s - loss: 0.1047 - acc: 0.9587 - val_loss: 0.7351 - val_acc: 0.8204\n",
      "Epoch 30/30\n",
      " - 9s - loss: 0.0992 - acc: 0.9611 - val_loss: 1.3702 - val_acc: 0.7300\n"
     ]
    }
   ],
   "source": [
    "train_history = model.fit( x_train_final, y_train, batch_size=200, epochs=30, verbose=2, validation_split=0.2)"
   ]
  },
  {
   "cell_type": "markdown",
   "metadata": {},
   "source": [
    "#### Evaluating the accuracy"
   ]
  },
  {
   "cell_type": "code",
   "execution_count": 18,
   "metadata": {},
   "outputs": [
    {
     "name": "stdout",
     "output_type": "stream",
     "text": [
      "25000/25000 [==============================] - 7s 284us/step\n",
      "0.81972\n"
     ]
    }
   ],
   "source": [
    "scores = model.evaluate(x_test_final, y_test, verbose=1)\n",
    "print(scores[1])"
   ]
  },
  {
   "cell_type": "code",
   "execution_count": 19,
   "metadata": {},
   "outputs": [],
   "source": [
    "predict = model.predict_classes(x_test_final)"
   ]
  },
  {
   "cell_type": "code",
   "execution_count": 20,
   "metadata": {},
   "outputs": [
    {
     "data": {
      "text/plain": [
       "array([[1],\n",
       "       [1],\n",
       "       [1],\n",
       "       [1],\n",
       "       [1],\n",
       "       [1],\n",
       "       [0],\n",
       "       [1],\n",
       "       [0],\n",
       "       [1]], dtype=int32)"
      ]
     },
     "execution_count": 20,
     "metadata": {},
     "output_type": "execute_result"
    }
   ],
   "source": [
    "predict[:10]"
   ]
  },
  {
   "cell_type": "code",
   "execution_count": 21,
   "metadata": {},
   "outputs": [
    {
     "data": {
      "text/plain": [
       "array([1, 1, 1, 1, 1, 1, 0, 1, 0, 1], dtype=int32)"
      ]
     },
     "execution_count": 21,
     "metadata": {},
     "output_type": "execute_result"
    }
   ],
   "source": [
    "predict_classes = predict.reshape(-1)\n",
    "predict_classes[:10]"
   ]
  },
  {
   "cell_type": "code",
   "execution_count": 22,
   "metadata": {},
   "outputs": [
    {
     "name": "stdout",
     "output_type": "stream",
     "text": [
      "\n",
      "\n"
     ]
    }
   ],
   "source": [
    "SentimentDict = {1:'positive', 0:'negative'}\n",
    "print('\\n')\n",
    "def display_test_Sentiment(i):\n",
    "    print(x_test_text[i])\n",
    "    print('Ground truth:', SentimentDict[y_test[i]]) \n",
    "    print('Predict result:', SentimentDict[ predict_classes[i]]+'\\n\\n')"
   ]
  },
  {
   "cell_type": "code",
   "execution_count": 23,
   "metadata": {},
   "outputs": [
    {
     "name": "stdout",
     "output_type": "stream",
     "text": [
      "This is a gem. As a Film Four production - the anticipated quality was indeed delivered. Shot with great style that reminded me some Errol Morris films, well arranged and simply gripping. It's long yet horrifying to the point it's excruciating. We know something bad happened (one can guess by the lack of participation of a person in the interviews) but we are compelled to see it, a bit like a car accident in slow motion. The story spans most conceivable aspects and unlike some documentaries did not try and refrain from showing the grimmer sides of the stories, as also dealing with the guilt of the people Don left behind him, wondering why they didn't stop him in time. It took me a few hours to get out of the melancholy that gripped me after seeing this very-well made documentary.\n",
      "Ground truth: positive\n",
      "Predict result: positive\n",
      "\n",
      "\n",
      "I really like this show. It has drama, romance, and comedy all rolled into one. I am 28 and I am a married mother, so I can identify both with Lorelei's and Rory's experiences in the show. I have been watching mostly the repeats on the Family Channel lately, so I am not up-to-date on what is going on now. I think females would like this show more than males, but I know some men out there would enjoy it! I really like that is an hour long and not a half hour, as th hour seems to fly by when I am watching it! Give it a chance if you have never seen the show! I think Lorelei and Luke are my favorite characters on the show though, mainly because of the way they are with one another. How could you not see something was there (or take that long to see it I guess I should say)? Happy viewing!\n",
      "Ground truth: positive\n",
      "Predict result: positive\n",
      "\n",
      "\n",
      "This is the best 3-D experience Disney has at their themeparks. This is certainly better than their original 1960's acid-trip film that was in it's place, is leagues better than \"Honey I Shrunk The Audience\" (and far more fun), barely squeaks by the MuppetVision 3-D movie at Disney-MGM and can even beat the original 3-D \"Movie Experience\" Captain EO. This film relives some of Disney's greatest musical hits from Aladdin, The Little Mermaid, and others, and brought a smile to my face throughout the entire show. This is a totally kid-friendly movie too, unlike \"Honey...\" and has more effects than the spectacular \"MuppetVision\"\n",
      "Ground truth: positive\n",
      "Predict result: positive\n",
      "\n",
      "\n",
      "Of the Korean movies I've seen, only three had really stuck with me. The first is the excellent horror A Tale of Two Sisters. The second and third - and now fourth too - have all been Park Chan Wook's movies, namely Oldboy, Sympathy for Lady Vengeance), and now Thirst. Park kinda reminds me of Quentin Tarantino with his irreverence towards convention. All his movies are shocking, but not in a gratuitous sense. It's more like he shows us what we don't expect to see - typically situations that go radically against society's morals, like incest or a libidinous, blood-sucking, yet devout priest. He's also quite artistically-inclined with regards to cinematography, and his movies are among the more gorgeous that I've seen.Thirst is all that - being about said priest and the repressed, conscience-less woman he falls for - and more. It's horror, drama, and even comedy, as Park disarms his audience with many inappropriate yet humorous situations. As such, this might be his best work for me yet, since his other two movies that I've seen were lacking the humor element that would've made them more palatable for repeat viewings.\n",
      "Ground truth: positive\n",
      "Predict result: positive\n",
      "\n",
      "\n",
      "this movie is funny funny funny my favorite quote from the movie \"i think i saw a half naked Indian in my room last night\" response that was no hallucination it was a Indian in your room\" and another is \"what the hell are you talking about, just what the hell are you talking about\" but if i ever be admitted to an hospital like this one i will be prepared to write my will on the spot...i would say there were in my opinion three very funny characters in this film most funny but three is the funniest to me even though their lines were few.. and don't get me started on the crack-pot patient hehehe that one i will keep secret and fast paced too.\n",
      "Ground truth: positive\n",
      "Predict result: positive\n",
      "\n",
      "\n",
      "I'm just starting to explore the so far wonderful world of monsieur Ozon. I've seen only 4 films so far, and with the last one in the row it hit me that all of them were in fact about lonely women and their actions. Not a single non-lonely female character out of 12, and all of them bring heavy impact of surroundings.This film is probably the only one (out of four) where this impact is for good.The gay theme is an almost standard part of background for Ozon's films, so it doesn't grab the accent (although the looks of the characters might). Watch for the feelings, not for their objects.Very nice and fleeting, truly like a summer romance, and while being a relaxation to thought and mind, it gives some food for the soul.\n",
      "Ground truth: positive\n",
      "Predict result: negative\n",
      "\n",
      "\n",
      "There is no need for me to repeat the synopsis rendered by Glenn. The black and white rendition is even more powerful in portraying the bleakness of country village life at that time. The deep measure of friendship shown by Babette toward the two elderly sisters touches the heart strings. The supporting cast is excellent and their performances superb, it would not be fair to single out any one character since the entire story depends on the cast as a whole. I cannot put my finger exactly on why I rate this movie so highly since I am not a professional critic; individual viewers may or may not agree with my rating since enjoyment of this type of movie is always in the eye of the beholder.\n",
      "Ground truth: positive\n",
      "Predict result: positive\n",
      "\n",
      "\n",
      "I got this movie with my BBC \"Jane Austen Collection\" (5 DVDs of old BBC adaptations) and didn't like it at first. It's completely different from the others and it lacks, or so I thought, one of the qualities that I enjoy in all other Austen movies: cheerful common sense. The nightmare scene in which Mrs. Richards apparently sews her fingers together was especially upsetting.I still don't like to watch the finger-sewing scene but I do love hearing Mrs. R. saying, dreamily, while she sews, \"My only acquaintance...tore my gown.\" This movie is now my current Austen favorite. I've watched it 7 or 8 times so far. The acting, to my mind, is incredible. The way I notice good acting is when I find myself looking up from whatever I'm doing (sewing, though not my fingers together, hopefully, or boondoggling or whatever) in order to watch the character deliver his lines. It's the turn of expression, the cast of posture, that make the words come alive -- that's what makes good acting, as far as I'm concerned.Well, I watch almost every part of \"Northanger Abbey\" because almost all the actors play their roles with such charisma. Peter Firth is amazing as Mr. Tilney, the perfect blend of Bathian fop and real, masculine hero - you're not sure until the end whether he's after Catherine's money or not. I love his touch of (Welsh?) accent. Mr. and Mrs. Richards are charming: the combination of their behaviors - especially Mr. Richards' high voice, lending counterpoint to his wit and wisdom - makes them so real. General Tilney as the hard-hearted father who may possibly be a murderer is fascinating, too. And Captain Tilney, the grinning rake who is so clearly enjoying himself... and the moneygrubbing sister and brother whose names I can't currently remember - the two of them are so perfectly, at once, smart and smarmy.The other reason I love this adaptation is that it is the most romantic of all the Jane Austen adaptations. I know this was one of Austen's weak points (well, it is as far as I am concerned): even though all her novels are love stories, it's hard to feel that her heroes and heroines are really in love at the end. And if they're aren't really in love, then what's the point? All the other adaptations I've seen (other than the early Olivier/Garson one) have pretty cold-fish kisses at the end, if they kiss at all. I don't at all like sex in movies but it really is necessary to have a heartfelt kiss in the end. And the ending kiss in Northanger is a doozy.The over-the-top approach to costumes, music, and lighting work very well as far as I'm concerned. And the script is extremely clever - the way we are educated about Gothic romance, highlife in Bath, Cathy's normal country upbringing, etc., is very well done, as they usually are in BBC productions. Also, I like the part when the little black page does the cartwheels. And the Marchionesse, I think, was an entirely appropriate and very clever expository device.Some people have objected that this version is the opposite of what Jane Austen intended to do in Northanger Abbey - she meant to make fun of Gothic romance, not promote it. But I don't think she meant to put \"Mysteries of Udolpho,\" etc., down. She was just making the point that you need to distinguish between reality and fiction. And this point is made when Mr. Tilney chides Catherine in his mother's room. Besides, General Tilney was a villain, albeit a prosaic one. That point was meant to be made, surely.\n",
      "Ground truth: positive\n",
      "Predict result: negative\n",
      "\n",
      "\n",
      "This was a great movie, I would compare it to the movie The Game. You get to the end of the flick and cant move... your brain has been removed and shaken (not stirred) and put back in your head. Dont plan anything after this movie, you will need time to think about what just happened.Dont come to this movie expecting the Matrix style multi millions spent on special effects, this movies special effects come from the actors, they keep you involved, no, they suck you in and dont let go for the entire duration of the movie. Great acting, great plot... very enjoyable film, I cant say enough. Also very original plot, plenty of twists and ideas that I would have never thought of. The ending is abrupt and leaves you hanging wondering, was that real? Is this really the end? Good ending, not saying that it is bad... just leaves you wondering, and a little frazzled.Great movie for those who like action, like a good plot (dont get up for a bathroom break on this movie, you will come back lost) and like mind games, because thats exactly in a nutshell what this is.\n",
      "Ground truth: positive\n",
      "Predict result: positive\n",
      "\n",
      "\n",
      "I absolutely fell in love with this girls. let me tell you something: I am from Romania and here is only the sixth series running bunt every other day that is on USA TV I check the internet and download it from there, so i am in line with the rest of the world. I can not believe how deep I am in this show. I become to know absolutely everything about them I looked on the internet what's Rory's car what are their middle names and stuff like that: Rory is also Leigh and Lorelay is Victoria. I can not understand why but my boyfriend does not like them and I try and try to make him see how wonderful they are but without success, but he does understand me and lets me be with my \"obsesion\" with the Gilmore Girls. I adore them. I really hope that if someone see's this will give them a try : You won't regret it\n",
      "Ground truth: positive\n",
      "Predict result: positive\n",
      "\n",
      "\n",
      "It started off weird, the middle was weird, and the ending was weird, but I really, really liked it. A modern day version of Homer's Odyessy but that is really irrelevant. Interesting story and casting. Clooney was great and I applaud him for taking on such an adverterous role - so unlike anything he has done or ever will do again. Lots of surprise stars - why isn't Holly Hunter in more. Do something different tonight and watch this really different and unexpected flick.\n",
      "Ground truth: positive\n",
      "Predict result: positive\n",
      "\n",
      "\n",
      "If you like silly comedies like Airplane you'll love this movie! It's definitely in the style of Airplane and Scary Movie. A fun film! It has the strangest cast of characters all in the same movie. Michael Jackson, Evan Marriott, Joyce Giraurd, Stuart Pankin, Charlie Schlater and Eric Roberts. The special effects are hokey, but I think they're supposed to be since it's a silly comedy. There is apparently two versions of the film, one at Blockbuster and one on the official website: MissCastaway.com. The one on the website appears to be a preview release version signed by the director. There's some fun behind the scenes material filmed at Neverland with Michael Jackson as well. The movie was filmed in 2003 and says it's PG rated fun on the box.\n",
      "Ground truth: positive\n",
      "Predict result: negative\n",
      "\n",
      "\n",
      "The Italian Job requires daylight hours and no experience is required. This is a great matinee and a good afternoon at the movies. The plot is good, but the actual playing out of the plot is very simple and requires no thought process. It's car chases, explosions and all for the simple purpose of defeating \"the bad guy\" played by Edward Norton. For Norton, it seems he is content to portray the exact same characters as in his previous films such as \"The Score\". Mark Wahlberg and Charlize Theron deserve better scripts. Warning: If you've seen the trailer, then you have seen the movie. If you're looking for entertainment at inexpensive prices then you need The Italian Job.\n",
      "Ground truth: positive\n",
      "Predict result: positive\n",
      "\n",
      "\n",
      "I watch a lot of movies - DVD, features, and classics, you name it. The night I watched JERICHO MILE, my wife (who had ordered it on the internet) said she remembered it from when she was in high school, that it had stayed with her all of these years. Somewhat reluctantly I sat down (with our daughter & son), and was riveted from the opening sequence to the end titles. We all were. She, who remembered the original, and our kids (18 and 16) who had no idea what the movie was about couldn't believe it. Our favorite scene? Bar none, when peter Strauss so passionately bangs his fist down and says, \"i'd do it AGAIN!\". It didn't advocate violence because it was a defense crime, but evoked such intensity we couldn't believe it...when his fellow cell mates gave him their food in support of his efforts, there wasn't a dry eye in our house.Someone please make more movies like this one. UNBELIEVABLE!!\n",
      "Ground truth: positive\n",
      "Predict result: positive\n",
      "\n",
      "\n",
      "In the future, a disparate group of people asleep aboard a commercial spaceship is forced to improvise their survival when the spaceship crash-lands on a remote, barren planet. They already have one problem in that one of the passengers is intense criminal Richard Riddick (Vin Diesel, in his first top-billed role); however, they are soon preyed upon by a strange species of predator that thrives in the darkness - and a rare solar eclipse is soon to take place.While the script for this movie is ultimately on the routine side, it is decently acted and it is especially well-made technically. Location work, photography, and design (production as well as creature design) are all very impressive. It is not the most original or stimulating science-fiction / horror picture ever made, far from it, but it still provides good entertainment. Diesel is particularly good at getting under the skin of his intimidating character. It is not ENTIRELY predictable, however, and gets some points for**SPOILER**having a more politically correct ending than most of its type.Filmed on location in the desolate Coober Pedy area of Queensland in Australia.A sequel of sorts is in the works.7/10\n",
      "Ground truth: positive\n",
      "Predict result: positive\n",
      "\n",
      "\n",
      "I am really amazed how little fame this film had. i think it has to do with distribution companies and etc.Don't be idiots - if you are looking for a good fun take this movie - this is very nice movie to pass few hours with and the music is GREAT.It's about ..... well girls and boys and whats between them with not too much story but not all movies should be PULP FICTION should they?? it's nice and cute and gives good time . The girls are also very good looking and this makes the whole movie even more enjoyable.Why i gave it only a 9? well the story could be little more convincing from the middle and on. in some point you start to see events that are little less reliable. SMALL SPOILER: The baby is crying and the father goes in and tries to relax him. now i am not talking about some small cry but- no - hysteric cry and 30 sec after that the father goes out and \"baby is sleeping\"- excuse me , when and how exactly did you make him calm and sleep and be able to leave his room in 20-30 seconds. but ignore this kind of small picking because the film itself is not Docudrama - it's fun and this should be overlooked.\n",
      "Ground truth: positive\n",
      "Predict result: positive\n",
      "\n",
      "\n",
      "\"Tale of Two Sisters\" has to be one of the creepiest films I've seen recently. In the end there is no actual supernatural element, despite what one is led to expect throughout the film. The story seems to be about two sisters, who, upon returning to their father's home after some sort of absence (later revealed to have been a stay in a mental institution) are forced to deal with not only a seemingly schizophrenic and possibly bi-polar stepmother who lashes out at the younger of the girls when the mood strikes her and cheerfully tells them she's prepared a special dinner at another time., but some presence as yet unexplained. It is later revealed that the younger sister is dead, and exists only in the troubled minds of her older sister, who was unable to save her, and her step-mother, who was callous enough to let her die. Much about the specifics of the strange family is not revealed in the film, but it definitely leaves a viewer with a creepy feeling and a nagging hint of confusion. Definitely not light viewing; watch this one when you really want to think about what you've seen. It's a hell of a puzzler.\n",
      "Ground truth: positive\n",
      "Predict result: positive\n",
      "\n",
      "\n",
      "Assy McGee is a show that you really have to be a certain age to appreciate. Otherwise, it's likely you'll miss the references to 80's cop films and simply think it's a running gag about a walking rectum. Think it's brainless, infantile poop humor? Go watch the Stallone film 'Cobra' and you'll see what I mean. This show actually has very subtle humor, which says a lot, both for a show that aired on adult swim, and for a show about a walking ass.All the standard genre clichés are in place that made movies like Dirt Harry and Cobra so great and ripe for parody. Sanchez is Assy's partner, who is - as per the genre - level-headed and constantly apologizing for his partner's homicidal behavior. The police chief is, of course, a fire-breathing hard case who lives to scream \"I want your badge on my desk first thing tomorrow morning!\" The over-the-top, and sometimes completely nonsensical manner in which the 1980's 'Renegade Cop' film is parodied suits the subject matter well. For instance, while breaking up a bus robbery, one of the criminals stops to ask Assy, \"Hey, where are you going, asshole!?\" To which the title character snaps off the one-liner: \"I'm going... to shoot you.\" Highly recommended for anybody who loves 80's action movies, and has actually viewed enough of them to understand the humor.\n",
      "Ground truth: positive\n",
      "Predict result: positive\n",
      "\n",
      "\n",
      "This is a great horror movie. Great Plot. And a person with a fear of midgets will definately love the evil midget! This is a must see for any horror fan. Finally a lower budget movie with decent effects and a great cast! Highly recommended.\n",
      "Ground truth: positive\n",
      "Predict result: positive\n",
      "\n",
      "\n"
     ]
    }
   ],
   "source": [
    "for i in range(1,20):\n",
    "    display_test_Sentiment(i)"
   ]
  },
  {
   "cell_type": "code",
   "execution_count": null,
   "metadata": {},
   "outputs": [],
   "source": []
  },
  {
   "cell_type": "code",
   "execution_count": null,
   "metadata": {},
   "outputs": [],
   "source": []
  }
 ],
 "metadata": {
  "kernelspec": {
   "display_name": "Python 3",
   "language": "python",
   "name": "python3"
  },
  "language_info": {
   "codemirror_mode": {
    "name": "ipython",
    "version": 3
   },
   "file_extension": ".py",
   "mimetype": "text/x-python",
   "name": "python",
   "nbconvert_exporter": "python",
   "pygments_lexer": "ipython3",
   "version": "3.7.3"
  }
 },
 "nbformat": 4,
 "nbformat_minor": 4
}
